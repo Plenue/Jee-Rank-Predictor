{
  "nbformat": 4,
  "nbformat_minor": 0,
  "metadata": {
    "colab": {
      "name": "Rank P.ipynb",
      "provenance": [],
      "collapsed_sections": [],
      "mount_file_id": "1J2r2a7kGPbNBsHOZEJHtNCOyCmMcubS0",
      "authorship_tag": "ABX9TyPENxEF5d46uo5vJJwr5uU1",
      "include_colab_link": true
    },
    "kernelspec": {
      "name": "python3",
      "display_name": "Python 3"
    },
    "accelerator": "TPU"
  },
  "cells": [
    {
      "cell_type": "markdown",
      "metadata": {
        "id": "view-in-github",
        "colab_type": "text"
      },
      "source": [
        "<a href=\"https://colab.research.google.com/github/Plenue/Jee-Rank-Predictor/blob/master/Rank_Predictor1.ipynb\" target=\"_parent\"><img src=\"https://colab.research.google.com/assets/colab-badge.svg\" alt=\"Open In Colab\"/></a>"
      ]
    },
    {
      "cell_type": "code",
      "metadata": {
        "id": "uAYR7XZx9a5n",
        "colab_type": "code",
        "colab": {}
      },
      "source": [
        "from numpy import array\n",
        "from keras.preprocessing.text import one_hot\n",
        "from keras.preprocessing.sequence import pad_sequences\n",
        "from keras.models import Sequential\n",
        "from keras.layers.core import Activation, Dropout, Dense\n",
        "from keras.layers import Flatten, LSTM\n",
        "from keras.layers import GlobalMaxPooling1D\n",
        "from keras.models import Model\n",
        "from keras.layers.embeddings import Embedding\n",
        "from sklearn.model_selection import train_test_split\n",
        "from keras.preprocessing.text import Tokenizer\n",
        "from keras.layers import Input\n",
        "from keras.layers.merge import Concatenate\n",
        "from keras.layers import Bidirectional\n",
        "import tensorflow as tf\n",
        "import datetime\n",
        "\n",
        "import pandas as pd\n",
        "import numpy as np\n",
        "import re\n",
        "\n",
        "import matplotlib.pyplot as plt"
      ],
      "execution_count": 0,
      "outputs": []
    },
    {
      "cell_type": "code",
      "metadata": {
        "id": "Vx9uVwU8DLLK",
        "colab_type": "code",
        "colab": {}
      },
      "source": [
        "url1 = '/content/drive/My Drive/JeeRank/Dataset2014.csv'\n",
        "url2 = '/content/drive/My Drive/JeeRank/Dataset2016.csv'\n",
        "url3 = '/content/drive/My Drive/JeeRank/Dataset2017.csv'\n",
        "url4 = '/content/drive/My Drive/JeeRank/Dataset2018.csv'\n",
        "url5 = '/content/drive/My Drive/JeeRank/dataset2013.csv'"
      ],
      "execution_count": 0,
      "outputs": []
    },
    {
      "cell_type": "code",
      "metadata": {
        "id": "_cHhACV-D9wn",
        "colab_type": "code",
        "outputId": "d4e13b74-87c0-47a2-b2f2-c29b971e220e",
        "colab": {
          "base_uri": "https://localhost:8080/",
          "height": 34
        }
      },
      "source": [
        "data13= pd.read_csv(url5)\n",
        "din13= np.array(data13.drop(['OUT'],axis = 1))\n",
        "din13 = din13[1,:].reshape(31,1)\n",
        "dout13= (np.array(data13.OUT).T)/360\n",
        "\n",
        "din13.shape\n",
        "# (dout13)"
      ],
      "execution_count": 51,
      "outputs": [
        {
          "output_type": "execute_result",
          "data": {
            "text/plain": [
              "(31, 1)"
            ]
          },
          "metadata": {
            "tags": []
          },
          "execution_count": 51
        }
      ]
    },
    {
      "cell_type": "code",
      "metadata": {
        "id": "byWkp4MnE15U",
        "colab_type": "code",
        "outputId": "b5c973c3-4e5d-4775-b482-c2a885051b87",
        "colab": {
          "base_uri": "https://localhost:8080/",
          "height": 34
        }
      },
      "source": [
        "data14= pd.read_csv(url1)\n",
        "din14= np.array(data14.drop(['IN'],axis = 1))\n",
        "din14 = din14[1,:].reshape(31,1)\n",
        "dout14= (np.array(data14.IN[0:144]).T)/360\n",
        "dout14.shape"
      ],
      "execution_count": 52,
      "outputs": [
        {
          "output_type": "execute_result",
          "data": {
            "text/plain": [
              "(144,)"
            ]
          },
          "metadata": {
            "tags": []
          },
          "execution_count": 52
        }
      ]
    },
    {
      "cell_type": "code",
      "metadata": {
        "id": "dTXo5kFIFgME",
        "colab_type": "code",
        "outputId": "e3684ad8-8083-4085-bead-97f0a040f27c",
        "colab": {
          "base_uri": "https://localhost:8080/",
          "height": 34
        }
      },
      "source": [
        "data16= pd.read_csv(url2)\n",
        "din16= np.array(data16.drop(['IN'],axis = 1))\n",
        "din16 = din16[1,:].reshape(31,1)\n",
        "dout16= (np.array(data16.IN[0:144]).T)/372\n",
        "din16.shape"
      ],
      "execution_count": 53,
      "outputs": [
        {
          "output_type": "execute_result",
          "data": {
            "text/plain": [
              "(31, 1)"
            ]
          },
          "metadata": {
            "tags": []
          },
          "execution_count": 53
        }
      ]
    },
    {
      "cell_type": "code",
      "metadata": {
        "id": "B6LV_EYQFk5J",
        "colab_type": "code",
        "outputId": "9f8eee77-207f-4c8d-eea5-512bfd74f055",
        "colab": {
          "base_uri": "https://localhost:8080/",
          "height": 34
        }
      },
      "source": [
        "data17= pd.read_csv(url3)\n",
        "din17= np.array(data17.drop(['IN'],axis = 1))\n",
        "din17 = din17[1,:].reshape(31,1)\n",
        "dout17= (np.array(data17.IN[0:144]).T)/366\n",
        "din17.shape"
      ],
      "execution_count": 54,
      "outputs": [
        {
          "output_type": "execute_result",
          "data": {
            "text/plain": [
              "(31, 1)"
            ]
          },
          "metadata": {
            "tags": []
          },
          "execution_count": 54
        }
      ]
    },
    {
      "cell_type": "code",
      "metadata": {
        "id": "NjCT9zqNFzx4",
        "colab_type": "code",
        "outputId": "ab76a63e-c325-4337-eea2-9974ecc6bb18",
        "colab": {
          "base_uri": "https://localhost:8080/",
          "height": 34
        }
      },
      "source": [
        "data18= pd.read_csv(url4)\n",
        "din18= np.array(data18.drop(['IN'],axis = 1))\n",
        "din18 = din18[1,:].reshape(31,1)\n",
        "dout18= (np.array(data18.IN[0:144]).T)/360\n",
        "din18.shape\n",
        "dout18.shape"
      ],
      "execution_count": 55,
      "outputs": [
        {
          "output_type": "execute_result",
          "data": {
            "text/plain": [
              "(144,)"
            ]
          },
          "metadata": {
            "tags": []
          },
          "execution_count": 55
        }
      ]
    },
    {
      "cell_type": "code",
      "metadata": {
        "id": "qz9sRzGJUZBT",
        "colab_type": "code",
        "colab": {}
      },
      "source": [
        "dintrain = np.stack((din13, din14, din16, din17,din18))"
      ],
      "execution_count": 0,
      "outputs": []
    },
    {
      "cell_type": "code",
      "metadata": {
        "id": "wG6wfHmTUcgI",
        "colab_type": "code",
        "outputId": "73becc87-49e4-4fd5-9a3c-1c7bb3ad51fc",
        "colab": {
          "base_uri": "https://localhost:8080/",
          "height": 34
        }
      },
      "source": [
        "douttrain = list()\n",
        "douttrain.append(dout13)\n",
        "douttrain.append(dout14)\n",
        "douttrain.append(dout16)\n",
        "douttrain.append(dout17)\n",
        "douttrain.append(dout18)\n",
        "douttrain =np.array(douttrain)\n",
        "douttrain.shape"
      ],
      "execution_count": 57,
      "outputs": [
        {
          "output_type": "execute_result",
          "data": {
            "text/plain": [
              "(5, 144)"
            ]
          },
          "metadata": {
            "tags": []
          },
          "execution_count": 57
        }
      ]
    },
    {
      "cell_type": "code",
      "metadata": {
        "id": "x2vBG2cuS1Si",
        "colab_type": "code",
        "colab": {
          "base_uri": "https://localhost:8080/",
          "height": 1000
        },
        "outputId": "b481bdc0-9fbb-43f6-8673-3499c6a1df73"
      },
      "source": [
        "model = Sequential()\n",
        "model.add(LSTM(50, activation='relu', input_shape=(31,1)))\n",
        "# model.add(Dropout(0.05))\n",
        "model.add(Dense(144))\n",
        "model.compile(optimizer='adam', loss='mse', metrics=[tf.keras.metrics.RootMeanSquaredError()])\n",
        "model.fit(dintrain, douttrain, epochs=300, validation_split=0, batch_size=1)\n",
        "# ,callbacks=[tensorboard_callback]"
      ],
      "execution_count": 58,
      "outputs": [
        {
          "output_type": "stream",
          "text": [
            "Epoch 1/300\n",
            "5/5 [==============================] - 0s 60ms/step - loss: 0.2333 - root_mean_squared_error: 0.5143\n",
            "Epoch 2/300\n",
            "5/5 [==============================] - 0s 10ms/step - loss: 0.1920 - root_mean_squared_error: 0.4722\n",
            "Epoch 3/300\n",
            "5/5 [==============================] - 0s 10ms/step - loss: 0.1650 - root_mean_squared_error: 0.4548\n",
            "Epoch 4/300\n",
            "5/5 [==============================] - 0s 11ms/step - loss: 0.1323 - root_mean_squared_error: 0.4303\n",
            "Epoch 5/300\n",
            "5/5 [==============================] - 0s 12ms/step - loss: 0.1082 - root_mean_squared_error: 0.4166\n",
            "Epoch 6/300\n",
            "5/5 [==============================] - 0s 10ms/step - loss: 0.0833 - root_mean_squared_error: 0.3959\n",
            "Epoch 7/300\n",
            "5/5 [==============================] - 0s 11ms/step - loss: 0.0491 - root_mean_squared_error: 0.3779\n",
            "Epoch 8/300\n",
            "5/5 [==============================] - 0s 10ms/step - loss: 0.0362 - root_mean_squared_error: 0.3606\n",
            "Epoch 9/300\n",
            "5/5 [==============================] - 0s 10ms/step - loss: 0.0254 - root_mean_squared_error: 0.3435\n",
            "Epoch 10/300\n",
            "5/5 [==============================] - 0s 10ms/step - loss: 0.0146 - root_mean_squared_error: 0.3284\n",
            "Epoch 11/300\n",
            "5/5 [==============================] - 0s 11ms/step - loss: 0.0083 - root_mean_squared_error: 0.3142\n",
            "Epoch 12/300\n",
            "5/5 [==============================] - 0s 11ms/step - loss: 0.0101 - root_mean_squared_error: 0.3017\n",
            "Epoch 13/300\n",
            "5/5 [==============================] - 0s 12ms/step - loss: 0.0061 - root_mean_squared_error: 0.2905\n",
            "Epoch 14/300\n",
            "5/5 [==============================] - 0s 12ms/step - loss: 0.0065 - root_mean_squared_error: 0.2805\n",
            "Epoch 15/300\n",
            "5/5 [==============================] - 0s 10ms/step - loss: 0.0062 - root_mean_squared_error: 0.2711\n",
            "Epoch 16/300\n",
            "5/5 [==============================] - 0s 11ms/step - loss: 0.0081 - root_mean_squared_error: 0.2634\n",
            "Epoch 17/300\n",
            "5/5 [==============================] - 0s 10ms/step - loss: 0.0047 - root_mean_squared_error: 0.2559\n",
            "Epoch 18/300\n",
            "5/5 [==============================] - 0s 10ms/step - loss: 0.0061 - root_mean_squared_error: 0.2493\n",
            "Epoch 19/300\n",
            "5/5 [==============================] - 0s 9ms/step - loss: 0.0058 - root_mean_squared_error: 0.2430\n",
            "Epoch 20/300\n",
            "5/5 [==============================] - 0s 9ms/step - loss: 0.0053 - root_mean_squared_error: 0.2373\n",
            "Epoch 21/300\n",
            "5/5 [==============================] - 0s 10ms/step - loss: 0.0072 - root_mean_squared_error: 0.2321\n",
            "Epoch 22/300\n",
            "5/5 [==============================] - 0s 11ms/step - loss: 0.0048 - root_mean_squared_error: 0.2275\n",
            "Epoch 23/300\n",
            "5/5 [==============================] - 0s 10ms/step - loss: 0.0065 - root_mean_squared_error: 0.2228\n",
            "Epoch 24/300\n",
            "5/5 [==============================] - 0s 9ms/step - loss: 0.0077 - root_mean_squared_error: 0.2188\n",
            "Epoch 25/300\n",
            "5/5 [==============================] - 0s 10ms/step - loss: 0.0047 - root_mean_squared_error: 0.2149\n",
            "Epoch 26/300\n",
            "5/5 [==============================] - 0s 11ms/step - loss: 0.0066 - root_mean_squared_error: 0.2112\n",
            "Epoch 27/300\n",
            "5/5 [==============================] - 0s 10ms/step - loss: 0.0063 - root_mean_squared_error: 0.2078\n",
            "Epoch 28/300\n",
            "5/5 [==============================] - 0s 9ms/step - loss: 0.0064 - root_mean_squared_error: 0.2045\n",
            "Epoch 29/300\n",
            "5/5 [==============================] - 0s 10ms/step - loss: 0.0098 - root_mean_squared_error: 0.2015\n",
            "Epoch 30/300\n",
            "5/5 [==============================] - 0s 12ms/step - loss: 0.0100 - root_mean_squared_error: 0.1988\n",
            "Epoch 31/300\n",
            "5/5 [==============================] - 0s 11ms/step - loss: 0.0116 - root_mean_squared_error: 0.1967\n",
            "Epoch 32/300\n",
            "5/5 [==============================] - 0s 10ms/step - loss: 0.0091 - root_mean_squared_error: 0.1944\n",
            "Epoch 33/300\n",
            "5/5 [==============================] - 0s 10ms/step - loss: 0.0062 - root_mean_squared_error: 0.1918\n",
            "Epoch 34/300\n",
            "5/5 [==============================] - 0s 10ms/step - loss: 0.0074 - root_mean_squared_error: 0.1895\n",
            "Epoch 35/300\n",
            "5/5 [==============================] - 0s 10ms/step - loss: 0.0112 - root_mean_squared_error: 0.1875\n",
            "Epoch 36/300\n",
            "5/5 [==============================] - 0s 9ms/step - loss: 0.0114 - root_mean_squared_error: 0.1856\n",
            "Epoch 37/300\n",
            "5/5 [==============================] - 0s 10ms/step - loss: 0.0092 - root_mean_squared_error: 0.1842\n",
            "Epoch 38/300\n",
            "5/5 [==============================] - 0s 10ms/step - loss: 0.0043 - root_mean_squared_error: 0.1820\n",
            "Epoch 39/300\n",
            "5/5 [==============================] - 0s 10ms/step - loss: 0.0058 - root_mean_squared_error: 0.1799\n",
            "Epoch 40/300\n",
            "5/5 [==============================] - 0s 12ms/step - loss: 0.0057 - root_mean_squared_error: 0.1780\n",
            "Epoch 41/300\n",
            "5/5 [==============================] - 0s 10ms/step - loss: 0.0044 - root_mean_squared_error: 0.1762\n",
            "Epoch 42/300\n",
            "5/5 [==============================] - 0s 10ms/step - loss: 0.0085 - root_mean_squared_error: 0.1744\n",
            "Epoch 43/300\n",
            "5/5 [==============================] - 0s 9ms/step - loss: 0.0044 - root_mean_squared_error: 0.1729\n",
            "Epoch 44/300\n",
            "5/5 [==============================] - 0s 10ms/step - loss: 0.0070 - root_mean_squared_error: 0.1713\n",
            "Epoch 45/300\n",
            "5/5 [==============================] - 0s 10ms/step - loss: 0.0037 - root_mean_squared_error: 0.1697\n",
            "Epoch 46/300\n",
            "5/5 [==============================] - 0s 12ms/step - loss: 0.0055 - root_mean_squared_error: 0.1682\n",
            "Epoch 47/300\n",
            "5/5 [==============================] - 0s 10ms/step - loss: 0.0049 - root_mean_squared_error: 0.1668\n",
            "Epoch 48/300\n",
            "5/5 [==============================] - 0s 10ms/step - loss: 0.0052 - root_mean_squared_error: 0.1653\n",
            "Epoch 49/300\n",
            "5/5 [==============================] - 0s 10ms/step - loss: 0.0073 - root_mean_squared_error: 0.1639\n",
            "Epoch 50/300\n",
            "5/5 [==============================] - 0s 10ms/step - loss: 0.0069 - root_mean_squared_error: 0.1627\n",
            "Epoch 51/300\n",
            "5/5 [==============================] - 0s 9ms/step - loss: 0.0066 - root_mean_squared_error: 0.1616\n",
            "Epoch 52/300\n",
            "5/5 [==============================] - 0s 9ms/step - loss: 0.0054 - root_mean_squared_error: 0.1604\n",
            "Epoch 53/300\n",
            "5/5 [==============================] - 0s 10ms/step - loss: 0.0051 - root_mean_squared_error: 0.1590\n",
            "Epoch 54/300\n",
            "5/5 [==============================] - 0s 10ms/step - loss: 0.0048 - root_mean_squared_error: 0.1579\n",
            "Epoch 55/300\n",
            "5/5 [==============================] - 0s 9ms/step - loss: 0.0056 - root_mean_squared_error: 0.1567\n",
            "Epoch 56/300\n",
            "5/5 [==============================] - 0s 10ms/step - loss: 0.0057 - root_mean_squared_error: 0.1556\n",
            "Epoch 57/300\n",
            "5/5 [==============================] - 0s 11ms/step - loss: 0.0057 - root_mean_squared_error: 0.1547\n",
            "Epoch 58/300\n",
            "5/5 [==============================] - 0s 12ms/step - loss: 0.0053 - root_mean_squared_error: 0.1536\n",
            "Epoch 59/300\n",
            "5/5 [==============================] - 0s 11ms/step - loss: 0.0056 - root_mean_squared_error: 0.1526\n",
            "Epoch 60/300\n",
            "5/5 [==============================] - 0s 11ms/step - loss: 0.0050 - root_mean_squared_error: 0.1516\n",
            "Epoch 61/300\n",
            "5/5 [==============================] - 0s 11ms/step - loss: 0.0053 - root_mean_squared_error: 0.1505\n",
            "Epoch 62/300\n",
            "5/5 [==============================] - 0s 11ms/step - loss: 0.0048 - root_mean_squared_error: 0.1496\n",
            "Epoch 63/300\n",
            "5/5 [==============================] - 0s 12ms/step - loss: 0.0047 - root_mean_squared_error: 0.1488\n",
            "Epoch 64/300\n",
            "5/5 [==============================] - 0s 11ms/step - loss: 0.0048 - root_mean_squared_error: 0.1477\n",
            "Epoch 65/300\n",
            "5/5 [==============================] - 0s 16ms/step - loss: 0.0046 - root_mean_squared_error: 0.1469\n",
            "Epoch 66/300\n",
            "5/5 [==============================] - 0s 11ms/step - loss: 0.0052 - root_mean_squared_error: 0.1460\n",
            "Epoch 67/300\n",
            "5/5 [==============================] - 0s 12ms/step - loss: 0.0053 - root_mean_squared_error: 0.1452\n",
            "Epoch 68/300\n",
            "5/5 [==============================] - 0s 11ms/step - loss: 0.0050 - root_mean_squared_error: 0.1444\n",
            "Epoch 69/300\n",
            "5/5 [==============================] - 0s 12ms/step - loss: 0.0060 - root_mean_squared_error: 0.1435\n",
            "Epoch 70/300\n",
            "5/5 [==============================] - 0s 11ms/step - loss: 0.0046 - root_mean_squared_error: 0.1428\n",
            "Epoch 71/300\n",
            "5/5 [==============================] - 0s 9ms/step - loss: 0.0050 - root_mean_squared_error: 0.1421\n",
            "Epoch 72/300\n",
            "5/5 [==============================] - 0s 9ms/step - loss: 0.0049 - root_mean_squared_error: 0.1413\n",
            "Epoch 73/300\n",
            "5/5 [==============================] - 0s 9ms/step - loss: 0.0053 - root_mean_squared_error: 0.1406\n",
            "Epoch 74/300\n",
            "5/5 [==============================] - 0s 10ms/step - loss: 0.0052 - root_mean_squared_error: 0.1399\n",
            "Epoch 75/300\n",
            "5/5 [==============================] - 0s 9ms/step - loss: 0.0047 - root_mean_squared_error: 0.1391\n",
            "Epoch 76/300\n",
            "5/5 [==============================] - 0s 9ms/step - loss: 0.0048 - root_mean_squared_error: 0.1385\n",
            "Epoch 77/300\n",
            "5/5 [==============================] - 0s 10ms/step - loss: 0.0048 - root_mean_squared_error: 0.1377\n",
            "Epoch 78/300\n",
            "5/5 [==============================] - 0s 9ms/step - loss: 0.0055 - root_mean_squared_error: 0.1371\n",
            "Epoch 79/300\n",
            "5/5 [==============================] - 0s 10ms/step - loss: 0.0043 - root_mean_squared_error: 0.1364\n",
            "Epoch 80/300\n",
            "5/5 [==============================] - 0s 11ms/step - loss: 0.0057 - root_mean_squared_error: 0.1358\n",
            "Epoch 81/300\n",
            "5/5 [==============================] - 0s 9ms/step - loss: 0.0080 - root_mean_squared_error: 0.1353\n",
            "Epoch 82/300\n",
            "5/5 [==============================] - 0s 9ms/step - loss: 0.0056 - root_mean_squared_error: 0.1348\n",
            "Epoch 83/300\n",
            "5/5 [==============================] - 0s 9ms/step - loss: 0.0078 - root_mean_squared_error: 0.1343\n",
            "Epoch 84/300\n",
            "5/5 [==============================] - 0s 11ms/step - loss: 0.0058 - root_mean_squared_error: 0.1338\n",
            "Epoch 85/300\n",
            "5/5 [==============================] - 0s 9ms/step - loss: 0.0065 - root_mean_squared_error: 0.1333\n",
            "Epoch 86/300\n",
            "5/5 [==============================] - 0s 10ms/step - loss: 0.0059 - root_mean_squared_error: 0.1327\n",
            "Epoch 87/300\n",
            "5/5 [==============================] - 0s 10ms/step - loss: 0.0046 - root_mean_squared_error: 0.1322\n",
            "Epoch 88/300\n",
            "5/5 [==============================] - 0s 9ms/step - loss: 0.0038 - root_mean_squared_error: 0.1317\n",
            "Epoch 89/300\n",
            "5/5 [==============================] - 0s 10ms/step - loss: 0.0061 - root_mean_squared_error: 0.1312\n",
            "Epoch 90/300\n",
            "5/5 [==============================] - 0s 10ms/step - loss: 0.0047 - root_mean_squared_error: 0.1306\n",
            "Epoch 91/300\n",
            "5/5 [==============================] - 0s 12ms/step - loss: 0.0045 - root_mean_squared_error: 0.1301\n",
            "Epoch 92/300\n",
            "5/5 [==============================] - 0s 11ms/step - loss: 0.0046 - root_mean_squared_error: 0.1295\n",
            "Epoch 93/300\n",
            "5/5 [==============================] - 0s 11ms/step - loss: 0.0057 - root_mean_squared_error: 0.1291\n",
            "Epoch 94/300\n",
            "5/5 [==============================] - 0s 11ms/step - loss: 0.0041 - root_mean_squared_error: 0.1286\n",
            "Epoch 95/300\n",
            "5/5 [==============================] - 0s 11ms/step - loss: 0.0090 - root_mean_squared_error: 0.1281\n",
            "Epoch 96/300\n",
            "5/5 [==============================] - 0s 11ms/step - loss: 0.0042 - root_mean_squared_error: 0.1278\n",
            "Epoch 97/300\n",
            "5/5 [==============================] - 0s 11ms/step - loss: 0.0083 - root_mean_squared_error: 0.1273\n",
            "Epoch 98/300\n",
            "5/5 [==============================] - 0s 11ms/step - loss: 0.0043 - root_mean_squared_error: 0.1269\n",
            "Epoch 99/300\n",
            "5/5 [==============================] - 0s 11ms/step - loss: 0.0070 - root_mean_squared_error: 0.1265\n",
            "Epoch 100/300\n",
            "5/5 [==============================] - 0s 11ms/step - loss: 0.0056 - root_mean_squared_error: 0.1261\n",
            "Epoch 101/300\n",
            "5/5 [==============================] - 0s 12ms/step - loss: 0.0061 - root_mean_squared_error: 0.1257\n",
            "Epoch 102/300\n",
            "5/5 [==============================] - 0s 13ms/step - loss: 0.0059 - root_mean_squared_error: 0.1253\n",
            "Epoch 103/300\n",
            "5/5 [==============================] - 0s 11ms/step - loss: 0.0062 - root_mean_squared_error: 0.1250\n",
            "Epoch 104/300\n",
            "5/5 [==============================] - 0s 11ms/step - loss: 0.0052 - root_mean_squared_error: 0.1246\n",
            "Epoch 105/300\n",
            "5/5 [==============================] - 0s 13ms/step - loss: 0.0044 - root_mean_squared_error: 0.1242\n",
            "Epoch 106/300\n",
            "5/5 [==============================] - 0s 12ms/step - loss: 0.0048 - root_mean_squared_error: 0.1238\n",
            "Epoch 107/300\n",
            "5/5 [==============================] - 0s 11ms/step - loss: 0.0050 - root_mean_squared_error: 0.1234\n",
            "Epoch 108/300\n",
            "5/5 [==============================] - 0s 10ms/step - loss: 0.0056 - root_mean_squared_error: 0.1230\n",
            "Epoch 109/300\n",
            "5/5 [==============================] - 0s 9ms/step - loss: 0.0050 - root_mean_squared_error: 0.1226\n",
            "Epoch 110/300\n",
            "5/5 [==============================] - 0s 10ms/step - loss: 0.0058 - root_mean_squared_error: 0.1223\n",
            "Epoch 111/300\n",
            "5/5 [==============================] - 0s 9ms/step - loss: 0.0056 - root_mean_squared_error: 0.1220\n",
            "Epoch 112/300\n",
            "5/5 [==============================] - 0s 10ms/step - loss: 0.0050 - root_mean_squared_error: 0.1216\n",
            "Epoch 113/300\n",
            "5/5 [==============================] - 0s 10ms/step - loss: 0.0048 - root_mean_squared_error: 0.1213\n",
            "Epoch 114/300\n",
            "5/5 [==============================] - 0s 10ms/step - loss: 0.0043 - root_mean_squared_error: 0.1209\n",
            "Epoch 115/300\n",
            "5/5 [==============================] - 0s 10ms/step - loss: 0.0049 - root_mean_squared_error: 0.1205\n",
            "Epoch 116/300\n",
            "5/5 [==============================] - 0s 12ms/step - loss: 0.0043 - root_mean_squared_error: 0.1201\n",
            "Epoch 117/300\n",
            "5/5 [==============================] - 0s 10ms/step - loss: 0.0052 - root_mean_squared_error: 0.1198\n",
            "Epoch 118/300\n",
            "5/5 [==============================] - 0s 10ms/step - loss: 0.0045 - root_mean_squared_error: 0.1195\n",
            "Epoch 119/300\n",
            "5/5 [==============================] - 0s 9ms/step - loss: 0.0043 - root_mean_squared_error: 0.1191\n",
            "Epoch 120/300\n",
            "5/5 [==============================] - 0s 10ms/step - loss: 0.0049 - root_mean_squared_error: 0.1188\n",
            "Epoch 121/300\n",
            "5/5 [==============================] - 0s 12ms/step - loss: 0.0039 - root_mean_squared_error: 0.1184\n",
            "Epoch 122/300\n",
            "5/5 [==============================] - 0s 10ms/step - loss: 0.0049 - root_mean_squared_error: 0.1181\n",
            "Epoch 123/300\n",
            "5/5 [==============================] - 0s 10ms/step - loss: 0.0046 - root_mean_squared_error: 0.1178\n",
            "Epoch 124/300\n",
            "5/5 [==============================] - 0s 10ms/step - loss: 0.0041 - root_mean_squared_error: 0.1175\n",
            "Epoch 125/300\n",
            "5/5 [==============================] - 0s 11ms/step - loss: 0.0054 - root_mean_squared_error: 0.1172\n",
            "Epoch 126/300\n",
            "5/5 [==============================] - 0s 10ms/step - loss: 0.0048 - root_mean_squared_error: 0.1168\n",
            "Epoch 127/300\n",
            "5/5 [==============================] - 0s 10ms/step - loss: 0.0041 - root_mean_squared_error: 0.1165\n",
            "Epoch 128/300\n",
            "5/5 [==============================] - 0s 11ms/step - loss: 0.0055 - root_mean_squared_error: 0.1162\n",
            "Epoch 129/300\n",
            "5/5 [==============================] - 0s 11ms/step - loss: 0.0041 - root_mean_squared_error: 0.1160\n",
            "Epoch 130/300\n",
            "5/5 [==============================] - 0s 11ms/step - loss: 0.0047 - root_mean_squared_error: 0.1156\n",
            "Epoch 131/300\n",
            "5/5 [==============================] - 0s 11ms/step - loss: 0.0049 - root_mean_squared_error: 0.1153\n",
            "Epoch 132/300\n",
            "5/5 [==============================] - 0s 11ms/step - loss: 0.0045 - root_mean_squared_error: 0.1150\n",
            "Epoch 133/300\n",
            "5/5 [==============================] - 0s 11ms/step - loss: 0.0046 - root_mean_squared_error: 0.1148\n",
            "Epoch 134/300\n",
            "5/5 [==============================] - 0s 11ms/step - loss: 0.0044 - root_mean_squared_error: 0.1145\n",
            "Epoch 135/300\n",
            "5/5 [==============================] - 0s 12ms/step - loss: 0.0053 - root_mean_squared_error: 0.1142\n",
            "Epoch 136/300\n",
            "5/5 [==============================] - 0s 11ms/step - loss: 0.0043 - root_mean_squared_error: 0.1140\n",
            "Epoch 137/300\n",
            "5/5 [==============================] - 0s 11ms/step - loss: 0.0044 - root_mean_squared_error: 0.1137\n",
            "Epoch 138/300\n",
            "5/5 [==============================] - 0s 11ms/step - loss: 0.0051 - root_mean_squared_error: 0.1134\n",
            "Epoch 139/300\n",
            "5/5 [==============================] - 0s 12ms/step - loss: 0.0042 - root_mean_squared_error: 0.1131\n",
            "Epoch 140/300\n",
            "5/5 [==============================] - 0s 12ms/step - loss: 0.0047 - root_mean_squared_error: 0.1129\n",
            "Epoch 141/300\n",
            "5/5 [==============================] - 0s 10ms/step - loss: 0.0052 - root_mean_squared_error: 0.1126\n",
            "Epoch 142/300\n",
            "5/5 [==============================] - 0s 10ms/step - loss: 0.0059 - root_mean_squared_error: 0.1125\n",
            "Epoch 143/300\n",
            "5/5 [==============================] - 0s 11ms/step - loss: 0.0047 - root_mean_squared_error: 0.1122\n",
            "Epoch 144/300\n",
            "5/5 [==============================] - 0s 11ms/step - loss: 0.0040 - root_mean_squared_error: 0.1119\n",
            "Epoch 145/300\n",
            "5/5 [==============================] - 0s 10ms/step - loss: 0.0046 - root_mean_squared_error: 0.1117\n",
            "Epoch 146/300\n",
            "5/5 [==============================] - 0s 10ms/step - loss: 0.0045 - root_mean_squared_error: 0.1115\n",
            "Epoch 147/300\n",
            "5/5 [==============================] - 0s 10ms/step - loss: 0.0045 - root_mean_squared_error: 0.1112\n",
            "Epoch 148/300\n",
            "5/5 [==============================] - 0s 10ms/step - loss: 0.0047 - root_mean_squared_error: 0.1110\n",
            "Epoch 149/300\n",
            "5/5 [==============================] - 0s 10ms/step - loss: 0.0042 - root_mean_squared_error: 0.1108\n",
            "Epoch 150/300\n",
            "5/5 [==============================] - 0s 10ms/step - loss: 0.0043 - root_mean_squared_error: 0.1105\n",
            "Epoch 151/300\n",
            "5/5 [==============================] - 0s 10ms/step - loss: 0.0053 - root_mean_squared_error: 0.1103\n",
            "Epoch 152/300\n",
            "5/5 [==============================] - 0s 11ms/step - loss: 0.0041 - root_mean_squared_error: 0.1101\n",
            "Epoch 153/300\n",
            "5/5 [==============================] - 0s 10ms/step - loss: 0.0056 - root_mean_squared_error: 0.1098\n",
            "Epoch 154/300\n",
            "5/5 [==============================] - 0s 10ms/step - loss: 0.0040 - root_mean_squared_error: 0.1096\n",
            "Epoch 155/300\n",
            "5/5 [==============================] - 0s 10ms/step - loss: 0.0066 - root_mean_squared_error: 0.1094\n",
            "Epoch 156/300\n",
            "5/5 [==============================] - 0s 10ms/step - loss: 0.0041 - root_mean_squared_error: 0.1092\n",
            "Epoch 157/300\n",
            "5/5 [==============================] - 0s 10ms/step - loss: 0.0048 - root_mean_squared_error: 0.1090\n",
            "Epoch 158/300\n",
            "5/5 [==============================] - 0s 11ms/step - loss: 0.0053 - root_mean_squared_error: 0.1088\n",
            "Epoch 159/300\n",
            "5/5 [==============================] - 0s 12ms/step - loss: 0.0052 - root_mean_squared_error: 0.1086\n",
            "Epoch 160/300\n",
            "5/5 [==============================] - 0s 11ms/step - loss: 0.0037 - root_mean_squared_error: 0.1084\n",
            "Epoch 161/300\n",
            "5/5 [==============================] - 0s 10ms/step - loss: 0.0051 - root_mean_squared_error: 0.1081\n",
            "Epoch 162/300\n",
            "5/5 [==============================] - 0s 10ms/step - loss: 0.0040 - root_mean_squared_error: 0.1080\n",
            "Epoch 163/300\n",
            "5/5 [==============================] - 0s 10ms/step - loss: 0.0044 - root_mean_squared_error: 0.1077\n",
            "Epoch 164/300\n",
            "5/5 [==============================] - 0s 10ms/step - loss: 0.0047 - root_mean_squared_error: 0.1076\n",
            "Epoch 165/300\n",
            "5/5 [==============================] - 0s 10ms/step - loss: 0.0040 - root_mean_squared_error: 0.1073\n",
            "Epoch 166/300\n",
            "5/5 [==============================] - 0s 12ms/step - loss: 0.0042 - root_mean_squared_error: 0.1072\n",
            "Epoch 167/300\n",
            "5/5 [==============================] - 0s 11ms/step - loss: 0.0047 - root_mean_squared_error: 0.1069\n",
            "Epoch 168/300\n",
            "5/5 [==============================] - 0s 11ms/step - loss: 0.0043 - root_mean_squared_error: 0.1067\n",
            "Epoch 169/300\n",
            "5/5 [==============================] - 0s 11ms/step - loss: 0.0042 - root_mean_squared_error: 0.1065\n",
            "Epoch 170/300\n",
            "5/5 [==============================] - 0s 11ms/step - loss: 0.0046 - root_mean_squared_error: 0.1064\n",
            "Epoch 171/300\n",
            "5/5 [==============================] - 0s 14ms/step - loss: 0.0046 - root_mean_squared_error: 0.1062\n",
            "Epoch 172/300\n",
            "5/5 [==============================] - 0s 11ms/step - loss: 0.0046 - root_mean_squared_error: 0.1060\n",
            "Epoch 173/300\n",
            "5/5 [==============================] - 0s 12ms/step - loss: 0.0042 - root_mean_squared_error: 0.1058\n",
            "Epoch 174/300\n",
            "5/5 [==============================] - 0s 12ms/step - loss: 0.0052 - root_mean_squared_error: 0.1056\n",
            "Epoch 175/300\n",
            "5/5 [==============================] - 0s 11ms/step - loss: 0.0040 - root_mean_squared_error: 0.1054\n",
            "Epoch 176/300\n",
            "5/5 [==============================] - 0s 13ms/step - loss: 0.0055 - root_mean_squared_error: 0.1053\n",
            "Epoch 177/300\n",
            "5/5 [==============================] - 0s 11ms/step - loss: 0.0064 - root_mean_squared_error: 0.1051\n",
            "Epoch 178/300\n",
            "5/5 [==============================] - 0s 10ms/step - loss: 0.0048 - root_mean_squared_error: 0.1050\n",
            "Epoch 179/300\n",
            "5/5 [==============================] - 0s 10ms/step - loss: 0.0055 - root_mean_squared_error: 0.1048\n",
            "Epoch 180/300\n",
            "5/5 [==============================] - 0s 10ms/step - loss: 0.0044 - root_mean_squared_error: 0.1047\n",
            "Epoch 181/300\n",
            "5/5 [==============================] - 0s 11ms/step - loss: 0.0048 - root_mean_squared_error: 0.1045\n",
            "Epoch 182/300\n",
            "5/5 [==============================] - 0s 11ms/step - loss: 0.0043 - root_mean_squared_error: 0.1044\n",
            "Epoch 183/300\n",
            "5/5 [==============================] - 0s 11ms/step - loss: 0.0043 - root_mean_squared_error: 0.1041\n",
            "Epoch 184/300\n",
            "5/5 [==============================] - 0s 11ms/step - loss: 0.0044 - root_mean_squared_error: 0.1040\n",
            "Epoch 185/300\n",
            "5/5 [==============================] - 0s 11ms/step - loss: 0.0041 - root_mean_squared_error: 0.1038\n",
            "Epoch 186/300\n",
            "5/5 [==============================] - 0s 11ms/step - loss: 0.0047 - root_mean_squared_error: 0.1037\n",
            "Epoch 187/300\n",
            "5/5 [==============================] - 0s 11ms/step - loss: 0.0040 - root_mean_squared_error: 0.1035\n",
            "Epoch 188/300\n",
            "5/5 [==============================] - 0s 11ms/step - loss: 0.0045 - root_mean_squared_error: 0.1033\n",
            "Epoch 189/300\n",
            "5/5 [==============================] - 0s 11ms/step - loss: 0.0038 - root_mean_squared_error: 0.1032\n",
            "Epoch 190/300\n",
            "5/5 [==============================] - 0s 11ms/step - loss: 0.0046 - root_mean_squared_error: 0.1030\n",
            "Epoch 191/300\n",
            "5/5 [==============================] - 0s 12ms/step - loss: 0.0042 - root_mean_squared_error: 0.1028\n",
            "Epoch 192/300\n",
            "5/5 [==============================] - 0s 12ms/step - loss: 0.0038 - root_mean_squared_error: 0.1027\n",
            "Epoch 193/300\n",
            "5/5 [==============================] - 0s 12ms/step - loss: 0.0040 - root_mean_squared_error: 0.1025\n",
            "Epoch 194/300\n",
            "5/5 [==============================] - 0s 13ms/step - loss: 0.0046 - root_mean_squared_error: 0.1023\n",
            "Epoch 195/300\n",
            "5/5 [==============================] - 0s 11ms/step - loss: 0.0035 - root_mean_squared_error: 0.1022\n",
            "Epoch 196/300\n",
            "5/5 [==============================] - 0s 10ms/step - loss: 0.0042 - root_mean_squared_error: 0.1020\n",
            "Epoch 197/300\n",
            "5/5 [==============================] - 0s 10ms/step - loss: 0.0042 - root_mean_squared_error: 0.1019\n",
            "Epoch 198/300\n",
            "5/5 [==============================] - 0s 10ms/step - loss: 0.0041 - root_mean_squared_error: 0.1017\n",
            "Epoch 199/300\n",
            "5/5 [==============================] - 0s 11ms/step - loss: 0.0039 - root_mean_squared_error: 0.1015\n",
            "Epoch 200/300\n",
            "5/5 [==============================] - 0s 10ms/step - loss: 0.0046 - root_mean_squared_error: 0.1014\n",
            "Epoch 201/300\n",
            "5/5 [==============================] - 0s 10ms/step - loss: 0.0056 - root_mean_squared_error: 0.1013\n",
            "Epoch 202/300\n",
            "5/5 [==============================] - 0s 11ms/step - loss: 0.0045 - root_mean_squared_error: 0.1012\n",
            "Epoch 203/300\n",
            "5/5 [==============================] - 0s 10ms/step - loss: 0.0041 - root_mean_squared_error: 0.1010\n",
            "Epoch 204/300\n",
            "5/5 [==============================] - 0s 10ms/step - loss: 0.0045 - root_mean_squared_error: 0.1009\n",
            "Epoch 205/300\n",
            "5/5 [==============================] - 0s 11ms/step - loss: 0.0039 - root_mean_squared_error: 0.1007\n",
            "Epoch 206/300\n",
            "5/5 [==============================] - 0s 10ms/step - loss: 0.0042 - root_mean_squared_error: 0.1006\n",
            "Epoch 207/300\n",
            "5/5 [==============================] - 0s 10ms/step - loss: 0.0039 - root_mean_squared_error: 0.1004\n",
            "Epoch 208/300\n",
            "5/5 [==============================] - 0s 10ms/step - loss: 0.0045 - root_mean_squared_error: 0.1003\n",
            "Epoch 209/300\n",
            "5/5 [==============================] - 0s 10ms/step - loss: 0.0034 - root_mean_squared_error: 0.1001\n",
            "Epoch 210/300\n",
            "5/5 [==============================] - 0s 10ms/step - loss: 0.0050 - root_mean_squared_error: 0.1000\n",
            "Epoch 211/300\n",
            "5/5 [==============================] - 0s 10ms/step - loss: 0.0054 - root_mean_squared_error: 0.0999\n",
            "Epoch 212/300\n",
            "5/5 [==============================] - 0s 10ms/step - loss: 0.0038 - root_mean_squared_error: 0.0998\n",
            "Epoch 213/300\n",
            "5/5 [==============================] - 0s 11ms/step - loss: 0.0040 - root_mean_squared_error: 0.0996\n",
            "Epoch 214/300\n",
            "5/5 [==============================] - 0s 11ms/step - loss: 0.0036 - root_mean_squared_error: 0.0995\n",
            "Epoch 215/300\n",
            "5/5 [==============================] - 0s 11ms/step - loss: 0.0036 - root_mean_squared_error: 0.0993\n",
            "Epoch 216/300\n",
            "5/5 [==============================] - 0s 11ms/step - loss: 0.0043 - root_mean_squared_error: 0.0992\n",
            "Epoch 217/300\n",
            "5/5 [==============================] - 0s 11ms/step - loss: 0.0043 - root_mean_squared_error: 0.0990\n",
            "Epoch 218/300\n",
            "5/5 [==============================] - 0s 10ms/step - loss: 0.0043 - root_mean_squared_error: 0.0989\n",
            "Epoch 219/300\n",
            "5/5 [==============================] - 0s 10ms/step - loss: 0.0036 - root_mean_squared_error: 0.0988\n",
            "Epoch 220/300\n",
            "5/5 [==============================] - 0s 10ms/step - loss: 0.0036 - root_mean_squared_error: 0.0986\n",
            "Epoch 221/300\n",
            "5/5 [==============================] - 0s 10ms/step - loss: 0.0032 - root_mean_squared_error: 0.0985\n",
            "Epoch 222/300\n",
            "5/5 [==============================] - 0s 10ms/step - loss: 0.0036 - root_mean_squared_error: 0.0983\n",
            "Epoch 223/300\n",
            "5/5 [==============================] - 0s 10ms/step - loss: 0.0042 - root_mean_squared_error: 0.0982\n",
            "Epoch 224/300\n",
            "5/5 [==============================] - 0s 10ms/step - loss: 0.0036 - root_mean_squared_error: 0.0981\n",
            "Epoch 225/300\n",
            "5/5 [==============================] - 0s 10ms/step - loss: 0.0038 - root_mean_squared_error: 0.0980\n",
            "Epoch 226/300\n",
            "5/5 [==============================] - 0s 9ms/step - loss: 0.0033 - root_mean_squared_error: 0.0978\n",
            "Epoch 227/300\n",
            "5/5 [==============================] - 0s 10ms/step - loss: 0.0043 - root_mean_squared_error: 0.0977\n",
            "Epoch 228/300\n",
            "5/5 [==============================] - 0s 10ms/step - loss: 0.0048 - root_mean_squared_error: 0.0976\n",
            "Epoch 229/300\n",
            "5/5 [==============================] - 0s 11ms/step - loss: 0.0038 - root_mean_squared_error: 0.0975\n",
            "Epoch 230/300\n",
            "5/5 [==============================] - 0s 10ms/step - loss: 0.0051 - root_mean_squared_error: 0.0973\n",
            "Epoch 231/300\n",
            "5/5 [==============================] - 0s 10ms/step - loss: 0.0036 - root_mean_squared_error: 0.0973\n",
            "Epoch 232/300\n",
            "5/5 [==============================] - 0s 12ms/step - loss: 0.0041 - root_mean_squared_error: 0.0971\n",
            "Epoch 233/300\n",
            "5/5 [==============================] - 0s 11ms/step - loss: 0.0034 - root_mean_squared_error: 0.0970\n",
            "Epoch 234/300\n",
            "5/5 [==============================] - 0s 10ms/step - loss: 0.0046 - root_mean_squared_error: 0.0969\n",
            "Epoch 235/300\n",
            "5/5 [==============================] - 0s 9ms/step - loss: 0.0031 - root_mean_squared_error: 0.0967\n",
            "Epoch 236/300\n",
            "5/5 [==============================] - 0s 10ms/step - loss: 0.0036 - root_mean_squared_error: 0.0966\n",
            "Epoch 237/300\n",
            "5/5 [==============================] - 0s 10ms/step - loss: 0.0038 - root_mean_squared_error: 0.0965\n",
            "Epoch 238/300\n",
            "5/5 [==============================] - 0s 10ms/step - loss: 0.0033 - root_mean_squared_error: 0.0964\n",
            "Epoch 239/300\n",
            "5/5 [==============================] - 0s 10ms/step - loss: 0.0042 - root_mean_squared_error: 0.0962\n",
            "Epoch 240/300\n",
            "5/5 [==============================] - 0s 10ms/step - loss: 0.0033 - root_mean_squared_error: 0.0961\n",
            "Epoch 241/300\n",
            "5/5 [==============================] - 0s 10ms/step - loss: 0.0037 - root_mean_squared_error: 0.0960\n",
            "Epoch 242/300\n",
            "5/5 [==============================] - 0s 10ms/step - loss: 0.0033 - root_mean_squared_error: 0.0959\n",
            "Epoch 243/300\n",
            "5/5 [==============================] - 0s 10ms/step - loss: 0.0036 - root_mean_squared_error: 0.0958\n",
            "Epoch 244/300\n",
            "5/5 [==============================] - 0s 11ms/step - loss: 0.0036 - root_mean_squared_error: 0.0956\n",
            "Epoch 245/300\n",
            "5/5 [==============================] - 0s 11ms/step - loss: 0.0051 - root_mean_squared_error: 0.0955\n",
            "Epoch 246/300\n",
            "5/5 [==============================] - 0s 10ms/step - loss: 0.0039 - root_mean_squared_error: 0.0954\n",
            "Epoch 247/300\n",
            "5/5 [==============================] - 0s 10ms/step - loss: 0.0040 - root_mean_squared_error: 0.0953\n",
            "Epoch 248/300\n",
            "5/5 [==============================] - 0s 10ms/step - loss: 0.0037 - root_mean_squared_error: 0.0952\n",
            "Epoch 249/300\n",
            "5/5 [==============================] - 0s 10ms/step - loss: 0.0036 - root_mean_squared_error: 0.0951\n",
            "Epoch 250/300\n",
            "5/5 [==============================] - 0s 10ms/step - loss: 0.0034 - root_mean_squared_error: 0.0950\n",
            "Epoch 251/300\n",
            "5/5 [==============================] - 0s 10ms/step - loss: 0.0043 - root_mean_squared_error: 0.0949\n",
            "Epoch 252/300\n",
            "5/5 [==============================] - 0s 12ms/step - loss: 0.0037 - root_mean_squared_error: 0.0947\n",
            "Epoch 253/300\n",
            "5/5 [==============================] - 0s 11ms/step - loss: 0.0039 - root_mean_squared_error: 0.0947\n",
            "Epoch 254/300\n",
            "5/5 [==============================] - 0s 11ms/step - loss: 0.0032 - root_mean_squared_error: 0.0945\n",
            "Epoch 255/300\n",
            "5/5 [==============================] - 0s 10ms/step - loss: 0.0027 - root_mean_squared_error: 0.0944\n",
            "Epoch 256/300\n",
            "5/5 [==============================] - 0s 10ms/step - loss: 0.0049 - root_mean_squared_error: 0.0943\n",
            "Epoch 257/300\n",
            "5/5 [==============================] - 0s 11ms/step - loss: 0.0035 - root_mean_squared_error: 0.0942\n",
            "Epoch 258/300\n",
            "5/5 [==============================] - 0s 11ms/step - loss: 0.0034 - root_mean_squared_error: 0.0941\n",
            "Epoch 259/300\n",
            "5/5 [==============================] - 0s 11ms/step - loss: 0.0032 - root_mean_squared_error: 0.0940\n",
            "Epoch 260/300\n",
            "5/5 [==============================] - 0s 11ms/step - loss: 0.0031 - root_mean_squared_error: 0.0939\n",
            "Epoch 261/300\n",
            "5/5 [==============================] - 0s 11ms/step - loss: 0.0033 - root_mean_squared_error: 0.0937\n",
            "Epoch 262/300\n",
            "5/5 [==============================] - 0s 11ms/step - loss: 0.0037 - root_mean_squared_error: 0.0936\n",
            "Epoch 263/300\n",
            "5/5 [==============================] - 0s 13ms/step - loss: 0.0032 - root_mean_squared_error: 0.0935\n",
            "Epoch 264/300\n",
            "5/5 [==============================] - 0s 11ms/step - loss: 0.0028 - root_mean_squared_error: 0.0934\n",
            "Epoch 265/300\n",
            "5/5 [==============================] - 0s 11ms/step - loss: 0.0046 - root_mean_squared_error: 0.0933\n",
            "Epoch 266/300\n",
            "5/5 [==============================] - 0s 11ms/step - loss: 0.0043 - root_mean_squared_error: 0.0933\n",
            "Epoch 267/300\n",
            "5/5 [==============================] - 0s 11ms/step - loss: 0.0035 - root_mean_squared_error: 0.0931\n",
            "Epoch 268/300\n",
            "5/5 [==============================] - 0s 11ms/step - loss: 0.0028 - root_mean_squared_error: 0.0930\n",
            "Epoch 269/300\n",
            "5/5 [==============================] - 0s 13ms/step - loss: 0.0029 - root_mean_squared_error: 0.0929\n",
            "Epoch 270/300\n",
            "5/5 [==============================] - 0s 10ms/step - loss: 0.0031 - root_mean_squared_error: 0.0928\n",
            "Epoch 271/300\n",
            "5/5 [==============================] - 0s 10ms/step - loss: 0.0028 - root_mean_squared_error: 0.0927\n",
            "Epoch 272/300\n",
            "5/5 [==============================] - 0s 9ms/step - loss: 0.0034 - root_mean_squared_error: 0.0926\n",
            "Epoch 273/300\n",
            "5/5 [==============================] - 0s 10ms/step - loss: 0.0033 - root_mean_squared_error: 0.0925\n",
            "Epoch 274/300\n",
            "5/5 [==============================] - 0s 11ms/step - loss: 0.0031 - root_mean_squared_error: 0.0924\n",
            "Epoch 275/300\n",
            "5/5 [==============================] - 0s 11ms/step - loss: 0.0033 - root_mean_squared_error: 0.0923\n",
            "Epoch 276/300\n",
            "5/5 [==============================] - 0s 12ms/step - loss: 0.0028 - root_mean_squared_error: 0.0921\n",
            "Epoch 277/300\n",
            "5/5 [==============================] - 0s 11ms/step - loss: 0.0030 - root_mean_squared_error: 0.0920\n",
            "Epoch 278/300\n",
            "5/5 [==============================] - 0s 11ms/step - loss: 0.0030 - root_mean_squared_error: 0.0919\n",
            "Epoch 279/300\n",
            "5/5 [==============================] - 0s 11ms/step - loss: 0.0045 - root_mean_squared_error: 0.0918\n",
            "Epoch 280/300\n",
            "5/5 [==============================] - 0s 11ms/step - loss: 0.0031 - root_mean_squared_error: 0.0918\n",
            "Epoch 281/300\n",
            "5/5 [==============================] - 0s 11ms/step - loss: 0.0027 - root_mean_squared_error: 0.0916\n",
            "Epoch 282/300\n",
            "5/5 [==============================] - 0s 11ms/step - loss: 0.0032 - root_mean_squared_error: 0.0916\n",
            "Epoch 283/300\n",
            "5/5 [==============================] - 0s 11ms/step - loss: 0.0029 - root_mean_squared_error: 0.0914\n",
            "Epoch 284/300\n",
            "5/5 [==============================] - 0s 11ms/step - loss: 0.0030 - root_mean_squared_error: 0.0913\n",
            "Epoch 285/300\n",
            "5/5 [==============================] - 0s 12ms/step - loss: 0.0027 - root_mean_squared_error: 0.0912\n",
            "Epoch 286/300\n",
            "5/5 [==============================] - 0s 12ms/step - loss: 0.0040 - root_mean_squared_error: 0.0911\n",
            "Epoch 287/300\n",
            "5/5 [==============================] - 0s 12ms/step - loss: 0.0027 - root_mean_squared_error: 0.0910\n",
            "Epoch 288/300\n",
            "5/5 [==============================] - 0s 10ms/step - loss: 0.0041 - root_mean_squared_error: 0.0909\n",
            "Epoch 289/300\n",
            "5/5 [==============================] - 0s 10ms/step - loss: 0.0033 - root_mean_squared_error: 0.0909\n",
            "Epoch 290/300\n",
            "5/5 [==============================] - 0s 10ms/step - loss: 0.0048 - root_mean_squared_error: 0.0908\n",
            "Epoch 291/300\n",
            "5/5 [==============================] - 0s 11ms/step - loss: 0.0041 - root_mean_squared_error: 0.0907\n",
            "Epoch 292/300\n",
            "5/5 [==============================] - 0s 10ms/step - loss: 0.0033 - root_mean_squared_error: 0.0906\n",
            "Epoch 293/300\n",
            "5/5 [==============================] - 0s 9ms/step - loss: 0.0029 - root_mean_squared_error: 0.0905\n",
            "Epoch 294/300\n",
            "5/5 [==============================] - 0s 9ms/step - loss: 0.0030 - root_mean_squared_error: 0.0904\n",
            "Epoch 295/300\n",
            "5/5 [==============================] - 0s 10ms/step - loss: 0.0032 - root_mean_squared_error: 0.0903\n",
            "Epoch 296/300\n",
            "5/5 [==============================] - 0s 10ms/step - loss: 0.0029 - root_mean_squared_error: 0.0902\n",
            "Epoch 297/300\n",
            "5/5 [==============================] - 0s 10ms/step - loss: 0.0036 - root_mean_squared_error: 0.0901\n",
            "Epoch 298/300\n",
            "5/5 [==============================] - 0s 10ms/step - loss: 0.0029 - root_mean_squared_error: 0.0901\n",
            "Epoch 299/300\n",
            "5/5 [==============================] - 0s 10ms/step - loss: 0.0029 - root_mean_squared_error: 0.0900\n",
            "Epoch 300/300\n",
            "5/5 [==============================] - 0s 10ms/step - loss: 0.0028 - root_mean_squared_error: 0.0899\n"
          ],
          "name": "stdout"
        },
        {
          "output_type": "execute_result",
          "data": {
            "text/plain": [
              "<keras.callbacks.callbacks.History at 0x7fec6c76a860>"
            ]
          },
          "metadata": {
            "tags": []
          },
          "execution_count": 58
        }
      ]
    },
    {
      "cell_type": "code",
      "metadata": {
        "id": "weMzzw51W6E-",
        "colab_type": "code",
        "outputId": "0302b8f2-98d3-4e10-d27e-32b4605cb3b1",
        "colab": {
          "base_uri": "https://localhost:8080/",
          "height": 34
        }
      },
      "source": [
        "test_input = array([0.48, 0.408 ,0.45,0.438,186,54,0.19354,0.5161,.290,0,0,0.442,0.36,.49,.438,186,54,0,0.51,0.29,0.1935,0,0.10,0.4838,0.41129,0.25,0.58,0.1693,0.1612,0.322,0.5161])\n",
        "test_input = test_input.reshape((1, 31, 1))\n",
        "test_output = model.predict(test_input, verbose=0)\n",
        "# test_output = test_output - dout18.reshape(1,144)\n",
        "test_output.shape\n",
        "# np.savetxt('/content/drive/My Drive/JeeRank/test.txt', test_output*360, delimiter='\\n',fmt='%f')\n",
        "# test_input.shape"
      ],
      "execution_count": 59,
      "outputs": [
        {
          "output_type": "execute_result",
          "data": {
            "text/plain": [
              "(1, 144)"
            ]
          },
          "metadata": {
            "tags": []
          },
          "execution_count": 59
        }
      ]
    },
    {
      "cell_type": "code",
      "metadata": {
        "id": "kyMDVzmzY7gX",
        "colab_type": "code",
        "outputId": "b1079ff5-909c-4223-aef1-2ce0d55b961c",
        "colab": {
          "base_uri": "https://localhost:8080/",
          "height": 425
        }
      },
      "source": [
        "\n",
        "# plt.figure()\n",
        "# plt.plot(dout18)\n",
        "# plt.show()\n",
        "np.set_printoptions(formatter={'float_kind':'{:f}'.format})\n",
        "# plt.figure()\n",
        "# plt.plot(test_output*360)\n",
        "# plt.show()\n",
        "print(test_output*372)"
      ],
      "execution_count": 60,
      "outputs": [
        {
          "output_type": "stream",
          "text": [
            "[[327.093719 257.897339 244.341278 242.763809 232.512283 225.706451\n",
            "  216.803101 215.172348 209.035172 209.948975 201.599304 200.962311\n",
            "  201.797043 197.240540 199.235336 191.014984 195.181168 189.272995\n",
            "  190.993942 190.776077 188.669907 182.898148 182.154846 184.252686\n",
            "  180.658157 174.245163 177.813644 175.304443 172.974243 169.112610\n",
            "  169.674088 169.051529 173.582535 167.717819 169.119370 169.545837\n",
            "  162.624451 164.203659 167.631287 166.218460 160.792526 157.132660\n",
            "  160.224289 160.695175 159.769791 161.097855 159.190186 158.231995\n",
            "  154.929718 151.749741 152.598328 153.114624 154.900681 150.055542\n",
            "  148.915741 147.958328 152.976837 145.853394 147.085190 144.369934\n",
            "  145.570862 142.590851 146.325226 142.480881 144.622559 146.773544\n",
            "  141.514832 143.140656 147.632660 147.190186 142.293350 140.650681\n",
            "  144.878281 144.488846 145.015045 142.597443 139.987717 136.206467\n",
            "  136.259918 133.299667 136.072983 136.341980 136.842194 137.389313\n",
            "  136.852371 130.913284 135.498932 132.467209 132.751373 133.317673\n",
            "  134.726257 132.094513 129.016693 130.877884 130.546631 129.087418\n",
            "  129.003250 131.192810 133.283875 130.827972 125.510178 127.686188\n",
            "  124.977654 124.024834 124.098938 123.617706 125.987061 122.224586\n",
            "  130.956558 124.898880 121.490105 123.772011 127.090874 123.087845\n",
            "  121.345879 121.434349 121.143501 127.973404 120.284721 122.435760\n",
            "  116.759232 119.445343 121.213066 120.421051 119.029007 122.656601\n",
            "  118.717178 123.534096 125.403542 120.800728 121.993065 118.907379\n",
            "  119.442307 115.252007 117.689766 119.317680 119.736618 116.254478\n",
            "  116.997330 117.177170 116.417381 111.780945 117.406662 116.932175]]\n"
          ],
          "name": "stdout"
        }
      ]
    },
    {
      "cell_type": "code",
      "metadata": {
        "id": "p_A0HnbcaA6I",
        "colab_type": "code",
        "colab": {
          "base_uri": "https://localhost:8080/",
          "height": 425
        },
        "outputId": "31a19369-0fbd-4c3e-bb3e-a0dd78563876"
      },
      "source": [
        "douttrain[1,:]"
      ],
      "execution_count": 61,
      "outputs": [
        {
          "output_type": "execute_result",
          "data": {
            "text/plain": [
              "array([0.927778, 0.772222, 0.741667, 0.719444, 0.700000, 0.683333,\n",
              "       0.669444, 0.658333, 0.650000, 0.638889, 0.630556, 0.625000,\n",
              "       0.616667, 0.611111, 0.605556, 0.600000, 0.591667, 0.586111,\n",
              "       0.580556, 0.575000, 0.572222, 0.566667, 0.563889, 0.558333,\n",
              "       0.555556, 0.552778, 0.547222, 0.544444, 0.541667, 0.538889,\n",
              "       0.536111, 0.533333, 0.530556, 0.527778, 0.525000, 0.522222,\n",
              "       0.519444, 0.519444, 0.516667, 0.513889, 0.511111, 0.508333,\n",
              "       0.505556, 0.502778, 0.502778, 0.500000, 0.497222, 0.494444,\n",
              "       0.494444, 0.491667, 0.488889, 0.488889, 0.486111, 0.483333,\n",
              "       0.483333, 0.480556, 0.477778, 0.477778, 0.475000, 0.472222,\n",
              "       0.472222, 0.469444, 0.469444, 0.466667, 0.466667, 0.463889,\n",
              "       0.463889, 0.461111, 0.458333, 0.458333, 0.455556, 0.455556,\n",
              "       0.452778, 0.452778, 0.450000, 0.450000, 0.447222, 0.447222,\n",
              "       0.447222, 0.444444, 0.444444, 0.441667, 0.441667, 0.438889,\n",
              "       0.438889, 0.436111, 0.436111, 0.433333, 0.433333, 0.433333,\n",
              "       0.430556, 0.430556, 0.427778, 0.427778, 0.427778, 0.425000,\n",
              "       0.425000, 0.422222, 0.422222, 0.422222, 0.419444, 0.419444,\n",
              "       0.419444, 0.416667, 0.416667, 0.416667, 0.413889, 0.413889,\n",
              "       0.411111, 0.411111, 0.411111, 0.408333, 0.408333, 0.408333,\n",
              "       0.405556, 0.405556, 0.405556, 0.402778, 0.402778, 0.402778,\n",
              "       0.400000, 0.400000, 0.400000, 0.397222, 0.397222, 0.397222,\n",
              "       0.394444, 0.394444, 0.394444, 0.394444, 0.391667, 0.391667,\n",
              "       0.391667, 0.388889, 0.388889, 0.388889, 0.388889, 0.386111,\n",
              "       0.386111, 0.386111, 0.383333, 0.383333, 0.383333, 0.383333])"
            ]
          },
          "metadata": {
            "tags": []
          },
          "execution_count": 61
        }
      ]
    },
    {
      "cell_type": "code",
      "metadata": {
        "id": "x1a043G4xL5C",
        "colab_type": "code",
        "colab": {}
      },
      "source": [
        ""
      ],
      "execution_count": 0,
      "outputs": []
    }
  ]
}